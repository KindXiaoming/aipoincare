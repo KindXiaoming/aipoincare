{
 "cells": [
  {
   "cell_type": "code",
   "execution_count": 191,
   "metadata": {},
   "outputs": [],
   "source": [
    "import numpy as np\n",
    "import torch\n",
    "import matplotlib.pyplot as plt\n",
    "import torch.nn as nn\n",
    "import torch.nn.functional as F\n",
    "import os\n",
    "from sklearn.decomposition import PCA\n",
    "\n",
    "seed = 0\n",
    "torch.manual_seed(seed)\n",
    "np.random.seed(seed)"
   ]
  },
  {
   "cell_type": "code",
   "execution_count": 192,
   "metadata": {},
   "outputs": [],
   "source": [
    "# load your data\n",
    "#xs = np.loadtxt(\"./data/magnetic_mirror_v0/20\")\n",
    "#xs = np.loadtxt(\"./data/double_pendulum_large\")\n",
    "#xs[:,1] = xs[:,1] - np.floor((xs[:,1]+np.pi)/(2*np.pi))*2*np.pi\n",
    "#xs = np.loadtxt(\"./data/oned_harmonic\")\n",
    "xs = np.loadtxt(\"./data/three_body\")[::10]\n",
    "#xs = np.loadtxt(\"./data/twod_kepler\")\n",
    "\n",
    "\n",
    "n_train = xs.shape[0]\n",
    "input_dim = xs.shape[1]\n",
    "hidden_depth = 2\n",
    "nn_widths = [512,512]\n",
    "estimated_noise_level = 1e-3\n",
    "pre_pca = \"remove\"\n",
    "#pre_pca = \"retain\"\n",
    "sigmals = np.array([1e-2,2e-2,5e-2,1e-1,2e-1,5e-1,1,2])\n",
    "#sigmals = np.array([0.1])\n",
    "epoch = 3000\n",
    "n_walk = 1000"
   ]
  },
  {
   "cell_type": "code",
   "execution_count": null,
   "metadata": {},
   "outputs": [],
   "source": []
  },
  {
   "cell_type": "code",
   "execution_count": 193,
   "metadata": {},
   "outputs": [],
   "source": [
    "# pre-processing\n",
    "# step 1: whiten\n",
    "xs = (xs - np.mean(xs, axis=0)[np.newaxis,:])/np.std(xs, axis=0)[np.newaxis,:]\n",
    "# step 2: PCA\n",
    "pca = PCA()\n",
    "xs = pca.fit_transform(xs)\n",
    "# step 3: normalizie\n",
    "if pre_pca == \"retain\":\n",
    "    xs = xs/(np.std(xs,axis=0)[np.newaxis,:]+estimated_noise_level)\n",
    "elif pre_pca == \"remove\":\n",
    "    input_dim = np.sum(pca.explained_variance_ratio_>estimated_noise_level)\n",
    "    xs = xs[:,:input_dim]\n",
    "    xs = xs/(np.std(xs,axis=0)[np.newaxis,:])"
   ]
  },
  {
   "cell_type": "code",
   "execution_count": 194,
   "metadata": {},
   "outputs": [],
   "source": [
    "nn_widths.insert(0, input_dim)\n",
    "nn_widths.append(input_dim)"
   ]
  },
  {
   "cell_type": "code",
   "execution_count": null,
   "metadata": {},
   "outputs": [],
   "source": []
  },
  {
   "cell_type": "code",
   "execution_count": 195,
   "metadata": {},
   "outputs": [],
   "source": [
    "class den(nn.Module):\n",
    "    def __init__(self):\n",
    "        super(den, self).__init__()\n",
    "        self.linears = nn.ModuleList([nn.Linear(nn_widths[i], nn_widths[i+1]) for i in range(hidden_depth+1)])\n",
    "        \n",
    "    def forward(self, x):\n",
    "        act = nn.LeakyReLU(0.2)\n",
    "        self.x = x\n",
    "        for i in range(hidden_depth):\n",
    "            self.x = act(self.linears[i](self.x))\n",
    "        self.x = self.linears[hidden_depth](self.x)\n",
    "        return self.x\n"
   ]
  },
  {
   "cell_type": "code",
   "execution_count": null,
   "metadata": {},
   "outputs": [],
   "source": []
  },
  {
   "cell_type": "code",
   "execution_count": 185,
   "metadata": {},
   "outputs": [
    {
     "name": "stdout",
     "output_type": "stream",
     "text": [
      "sigmal=0.01\n",
      "Epoch:  0 | Train: 0.016\n",
      "Epoch:  200 | Train: 0.000138\n",
      "Epoch:  400 | Train: 0.000149\n",
      "Epoch:  600 | Train: 0.000136\n",
      "Epoch:  800 | Train: 0.000139\n",
      "Epoch:  1000 | Train: 0.000124\n",
      "Epoch:  1200 | Train: 0.000108\n",
      "Epoch:  1400 | Train: 0.000108\n",
      "Epoch:  1600 | Train: 0.000121\n",
      "Epoch:  1800 | Train: 0.000131\n",
      "Epoch:  2000 | Train: 0.000115\n",
      "Epoch:  2200 | Train: 0.00012\n",
      "Epoch:  2400 | Train: 0.000112\n",
      "Epoch:  2600 | Train: 0.000111\n",
      "Epoch:  2800 | Train: 0.000115\n",
      "sigmal=0.02\n",
      "Epoch:  0 | Train: 0.00949\n",
      "Epoch:  200 | Train: 0.000476\n",
      "Epoch:  400 | Train: 0.000429\n",
      "Epoch:  600 | Train: 0.000425\n",
      "Epoch:  800 | Train: 0.00046\n",
      "Epoch:  1000 | Train: 0.000449\n",
      "Epoch:  1200 | Train: 0.00041\n",
      "Epoch:  1400 | Train: 0.000433\n",
      "Epoch:  1600 | Train: 0.00043\n",
      "Epoch:  1800 | Train: 0.000419\n",
      "Epoch:  2000 | Train: 0.000437\n",
      "Epoch:  2200 | Train: 0.000433\n",
      "Epoch:  2400 | Train: 0.000383\n",
      "Epoch:  2600 | Train: 0.000432\n",
      "Epoch:  2800 | Train: 0.000424\n",
      "sigmal=0.05\n",
      "Epoch:  0 | Train: 0.0156\n",
      "Epoch:  200 | Train: 0.00272\n",
      "Epoch:  400 | Train: 0.00252\n",
      "Epoch:  600 | Train: 0.00275\n",
      "Epoch:  800 | Train: 0.00243\n",
      "Epoch:  1000 | Train: 0.00262\n",
      "Epoch:  1200 | Train: 0.00262\n",
      "Epoch:  1400 | Train: 0.00259\n",
      "Epoch:  1600 | Train: 0.00247\n",
      "Epoch:  1800 | Train: 0.00264\n",
      "Epoch:  2000 | Train: 0.00254\n",
      "Epoch:  2200 | Train: 0.00248\n",
      "Epoch:  2400 | Train: 0.00261\n",
      "Epoch:  2600 | Train: 0.00227\n",
      "Epoch:  2800 | Train: 0.00257\n",
      "sigmal=0.1\n",
      "Epoch:  0 | Train: 0.0202\n",
      "Epoch:  200 | Train: 0.00951\n",
      "Epoch:  400 | Train: 0.00946\n",
      "Epoch:  600 | Train: 0.0101\n",
      "Epoch:  800 | Train: 0.0098\n",
      "Epoch:  1000 | Train: 0.00943\n",
      "Epoch:  1200 | Train: 0.00835\n",
      "Epoch:  1400 | Train: 0.00854\n",
      "Epoch:  1600 | Train: 0.00734\n",
      "Epoch:  1800 | Train: 0.00819\n",
      "Epoch:  2000 | Train: 0.0077\n",
      "Epoch:  2200 | Train: 0.00675\n",
      "Epoch:  2400 | Train: 0.0075\n",
      "Epoch:  2600 | Train: 0.00766\n",
      "Epoch:  2800 | Train: 0.00763\n",
      "sigmal=0.2\n",
      "Epoch:  0 | Train: 0.0502\n",
      "Epoch:  200 | Train: 0.0387\n",
      "Epoch:  400 | Train: 0.0306\n",
      "Epoch:  600 | Train: 0.0293\n",
      "Epoch:  800 | Train: 0.0256\n",
      "Epoch:  1000 | Train: 0.0303\n",
      "Epoch:  1200 | Train: 0.0281\n",
      "Epoch:  1400 | Train: 0.0262\n",
      "Epoch:  1600 | Train: 0.0263\n",
      "Epoch:  1800 | Train: 0.0261\n",
      "Epoch:  2000 | Train: 0.0242\n",
      "Epoch:  2200 | Train: 0.0267\n",
      "Epoch:  2400 | Train: 0.0247\n",
      "Epoch:  2600 | Train: 0.0265\n",
      "Epoch:  2800 | Train: 0.0245\n",
      "sigmal=0.5\n",
      "Epoch:  0 | Train: 0.265\n",
      "Epoch:  200 | Train: 0.164\n",
      "Epoch:  400 | Train: 0.156\n",
      "Epoch:  600 | Train: 0.159\n",
      "Epoch:  800 | Train: 0.154\n",
      "Epoch:  1000 | Train: 0.137\n",
      "Epoch:  1200 | Train: 0.148\n",
      "Epoch:  1400 | Train: 0.132\n",
      "Epoch:  1600 | Train: 0.128\n",
      "Epoch:  1800 | Train: 0.136\n",
      "Epoch:  2000 | Train: 0.155\n",
      "Epoch:  2200 | Train: 0.143\n",
      "Epoch:  2400 | Train: 0.14\n",
      "Epoch:  2600 | Train: 0.133\n",
      "Epoch:  2800 | Train: 0.149\n",
      "sigmal=1.0\n",
      "Epoch:  0 | Train: 0.945\n",
      "Epoch:  200 | Train: 0.48\n",
      "Epoch:  400 | Train: 0.471\n",
      "Epoch:  600 | Train: 0.495\n",
      "Epoch:  800 | Train: 0.416\n",
      "Epoch:  1000 | Train: 0.485\n",
      "Epoch:  1200 | Train: 0.495\n",
      "Epoch:  1400 | Train: 0.458\n",
      "Epoch:  1600 | Train: 0.487\n",
      "Epoch:  1800 | Train: 0.44\n",
      "Epoch:  2000 | Train: 0.491\n",
      "Epoch:  2200 | Train: 0.436\n",
      "Epoch:  2400 | Train: 0.452\n",
      "Epoch:  2600 | Train: 0.468\n",
      "Epoch:  2800 | Train: 0.463\n",
      "sigmal=2.0\n",
      "Epoch:  0 | Train: 3.96\n",
      "Epoch:  200 | Train: 0.817\n",
      "Epoch:  400 | Train: 0.857\n",
      "Epoch:  600 | Train: 0.78\n",
      "Epoch:  800 | Train: 0.83\n",
      "Epoch:  1000 | Train: 0.819\n",
      "Epoch:  1200 | Train: 0.819\n",
      "Epoch:  1400 | Train: 0.794\n",
      "Epoch:  1600 | Train: 0.86\n",
      "Epoch:  1800 | Train: 0.835\n",
      "Epoch:  2000 | Train: 0.823\n",
      "Epoch:  2200 | Train: 0.822\n",
      "Epoch:  2400 | Train: 0.775\n",
      "Epoch:  2600 | Train: 0.826\n",
      "Epoch:  2800 | Train: 0.834\n"
     ]
    }
   ],
   "source": [
    "import torch.optim as optim\n",
    "import copy\n",
    "\n",
    "log = 200\n",
    "\n",
    "batch_size = 128 # batch_size\n",
    "\n",
    "exps = []\n",
    "\n",
    "for sigmal in sigmals:\n",
    "    den_net = den()\n",
    "    criterion = nn.MSELoss()\n",
    "    #optimizer = optim.SGD(den_net.parameters(), lr = 0.1, momentum=0.9)\n",
    "    optimizer = optim.Adam(den_net.parameters(), lr = 1e-3)\n",
    "    print(\"sigmal={}\".format(sigmal))\n",
    "    xs_noises = xs + np.random.randn(n_train,input_dim)*sigmal # data points and dim\n",
    "    inputs = torch.tensor(xs_noises, dtype=torch.float)\n",
    "    inputs.shape\n",
    "    labels = torch.tensor(xs-xs_noises, dtype=torch.float)\n",
    "\n",
    "    for j in range(epoch):\n",
    "        den_net.train()\n",
    "        optimizer.zero_grad()\n",
    "        choices = np.random.choice(n_train, batch_size)\n",
    "        inputs0 = inputs[choices]\n",
    "        outputs = den_net(inputs0)\n",
    "        loss = criterion(outputs, labels[choices])\n",
    "        loss.backward()\n",
    "        optimizer.step()\n",
    "        losses.append(float(loss.data))\n",
    "\n",
    "        if j%log == 0:\n",
    "            print('Epoch:  %d | Train: %.3g' %(j, loss))\n",
    "\n",
    "    x0 = copy.deepcopy(xs[int(n_train/2)])\n",
    "    x0 = x0[np.newaxis,:]\n",
    "\n",
    "    x0 = x0 + np.random.randn(n_walk,input_dim) * sigmal\n",
    "    x0 = x0 + den_net(torch.tensor(x0,dtype=torch.float)).detach().numpy()\n",
    "    \n",
    "    pca = PCA()\n",
    "    pca.fit(x0)\n",
    "    svs = pca.singular_values_\n",
    "    exp_ratio = svs**2/np.sum(svs**2)\n",
    "    exps.append(exp_ratio)\n",
    "    \n",
    "    torch.save(den_net.state_dict(), \"./models/%.3f\"%sigmal)\n",
    "    \n",
    "exps = np.array(exps)\n",
    "svss = np.array(svss)"
   ]
  },
  {
   "cell_type": "code",
   "execution_count": null,
   "metadata": {},
   "outputs": [],
   "source": []
  },
  {
   "cell_type": "code",
   "execution_count": 186,
   "metadata": {},
   "outputs": [],
   "source": [
    "def f(x,a=2):\n",
    "    n = x.shape[1]\n",
    "    mask = x < 1/(a*n)\n",
    "    return np.sum(np.cos(np.pi/2*n*a*x)*mask,axis=1)"
   ]
  },
  {
   "cell_type": "code",
   "execution_count": 187,
   "metadata": {},
   "outputs": [
    {
     "data": {
      "image/png": "[encoded data removed]",
      "text/plain": [
       "<Figure size 504x360 with 2 Axes>"
      ]
     },
     "metadata": {
      "needs_background": "light"
     },
     "output_type": "display_data"
    }
   ],
   "source": [
    "ax1 = plt.figure(figsize=(7,5))\n",
    "\n",
    "exps = np.array(exps)\n",
    "for i in range(input_dim):\n",
    "    plt.plot(sigmals, exps[:,i], marker=\"o\")\n",
    "plt.xscale('log')\n",
    "plt.xlabel(r\"$L$\",fontsize=25)\n",
    "plt.ylabel(\"Explained Ratio\",fontsize=25)\n",
    "\n",
    "ax2 = ax1.gca().twinx()\n",
    "ax2.plot(sigmals, f(exps,a=2), marker=\"o\",color=\"red\",linewidth=5, ls=\"--\", markersize=15)\n",
    "plt.ylabel(r\"$n_{eff}$\",fontsize=25,color=\"red\")\n",
    "\n",
    "plt.savefig('./models/double_pendulum_large.png',bbox_inches=\"tight\")"
   ]
  },
  {
   "cell_type": "code",
   "execution_count": 188,
   "metadata": {},
   "outputs": [],
   "source": [
    "import copy as copy\n",
    "\n",
    "den_nets = []\n",
    "for j in range(sigmals.shape[0]):\n",
    "    sigmal = sigmals[j]\n",
    "    den_net = den()\n",
    "    den_net.load_state_dict(torch.load(\"./models/%.3f\"%sigmal))\n",
    "    den_nets.append(copy.deepcopy(den_net))"
   ]
  },
  {
   "cell_type": "code",
   "execution_count": 189,
   "metadata": {},
   "outputs": [
    {
     "name": "stdout",
     "output_type": "stream",
     "text": [
      "0\n",
      "20\n",
      "40\n",
      "60\n",
      "80\n"
     ]
    }
   ],
   "source": [
    "exp_ratioss = []\n",
    "npoint = 100\n",
    "\n",
    "for i in range(npoint):\n",
    "    if i % 20 == 0:\n",
    "        print(i)\n",
    "    iid = np.random.choice(n_train)\n",
    "    x0 = copy.deepcopy(xs[iid])\n",
    "    x0 = x0[np.newaxis,:]\n",
    "    \n",
    "    exp_ratios = []\n",
    "    \n",
    "    for j in range(sigmals.shape[0]):\n",
    "\n",
    "        x0 = x0 + np.random.randn(n_walk,input_dim) * sigmals[j]\n",
    "        x0 = x0 + den_nets[j](torch.tensor(x0,dtype=torch.float)).detach().numpy()\n",
    "\n",
    "        pca = PCA()\n",
    "        pca.fit(x0)\n",
    "        svs = pca.singular_values_\n",
    "        exp_ratio = svs**2/np.sum(svs**2)\n",
    "        exp_ratios.append(exp_ratio)\n",
    "    exp_ratioss.append(exp_ratios)\n",
    "exp_ratioss = np.array(exp_ratioss)"
   ]
  },
  {
   "cell_type": "code",
   "execution_count": 190,
   "metadata": {},
   "outputs": [
    {
     "data": {
      "text/plain": [
       "(array([ 0.,  5., 10., 15., 20., 25., 30.]),\n",
       " <a list of 7 Text yticklabel objects>)"
      ]
     },
     "execution_count": 190,
     "metadata": {},
     "output_type": "execute_result"
    },
    {
     "data": {
      "image/png": "[encoded data removed]",
      "text/plain": [
       "<Figure size 432x288 with 1 Axes>"
      ]
     },
     "metadata": {
      "needs_background": "light"
     },
     "output_type": "display_data"
    }
   ],
   "source": [
    "a = np.max(f(exp_ratioss.reshape(-1,input_dim)).reshape(npoint, sigmals.shape[0]),axis=1)\n",
    "plt.hist(a,bins=25)\n",
    "plt.xlabel(r\"$n_{eff}$\",fontsize=20)\n",
    "plt.ylabel(\"Count\",fontsize=20)\n",
    "plt.xticks(fontsize=15)\n",
    "plt.yticks(fontsize=15)\n",
    "#plt.plot([1,1],[0,50],lw=5,ls=\"--\",color=\"red\")\n",
    "#plt.savefig(\"./error_fig/double_pendulum.png\",bbox_inches=\"tight\")"
   ]
  },
  {
   "cell_type": "code",
   "execution_count": null,
   "metadata": {},
   "outputs": [],
   "source": []
  }
 ],
 "metadata": {
  "kernelspec": {
   "display_name": "Python 3",
   "language": "python",
   "name": "python3"
  },
  "language_info": {
   "codemirror_mode": {
    "name": "ipython",
    "version": 3
   },
   "file_extension": ".py",
   "mimetype": "text/x-python",
   "name": "python",
   "nbconvert_exporter": "python",
   "pygments_lexer": "ipython3",
   "version": "3.7.4"
  }
 },
 "nbformat": 4,
 "nbformat_minor": 2
}
